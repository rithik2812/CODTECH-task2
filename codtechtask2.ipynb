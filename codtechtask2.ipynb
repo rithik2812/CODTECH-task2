{
 "cells": [
  {
   "cell_type": "code",
   "execution_count": 12,
   "id": "6af57e90",
   "metadata": {},
   "outputs": [],
   "source": [
    "#PREDICTIVE MODELING WITH CLASSIFICATION\n",
    "\n",
    "import pandas as pd\n",
    "import numpy as np\n",
    "from sklearn.preprocessing import StandardScaler\n",
    "from sklearn.model_selection import train_test_split\n",
    "from sklearn.naive_bayes import GaussianNB\n",
    "from sklearn.tree import DecisionTreeClassifier\n",
    "from sklearn.linear_model import LogisticRegression\n",
    "from sklearn.svm import SVC\n",
    "from sklearn.metrics import accuracy_score, precision_score, recall_score, f1_score, confusion_matrix\n",
    "import joblib"
   ]
  },
  {
   "cell_type": "code",
   "execution_count": 3,
   "id": "a59257f6",
   "metadata": {},
   "outputs": [
    {
     "name": "stdout",
     "output_type": "stream",
     "text": [
      "Dataset structure:\n",
      "                                                   0\n",
      "0  0,0.64,0.64,0,0.32,0,0,0,0,0,0,0.64,0,0,0,0.32...\n",
      "1  0.21,0.28,0.5,0,0.14,0.28,0.21,0.07,0,0.94,0.2...\n",
      "2  0.06,0,0.71,0,1.23,0.19,0.19,0.12,0.64,0.25,0....\n",
      "3  0,0,0,0,0.63,0,0.31,0.63,0.31,0.63,0.31,0.31,0...\n",
      "4  0,0,0,0,0.63,0,0.31,0.63,0.31,0.63,0.31,0.31,0...\n"
     ]
    }
   ],
   "source": [
    "file_path = 'spambase.csv'\n",
    "data = pd.read_csv(file_path, header=None)\n",
    "print(\"Dataset structure:\")\n",
    "print(data.head())"
   ]
  },
  {
   "cell_type": "code",
   "execution_count": 6,
   "id": "27180372",
   "metadata": {},
   "outputs": [],
   "source": [
    "X = data.apply(lambda row: pd.Series([float(x) for x in row[0].split(',')]), axis=1)\n",
    "y = X.iloc[:, -1] \n",
    "X = X.iloc[:, :-1]\n",
    "scaler = StandardScaler()\n",
    "X_scaled = scaler.fit_transform(X)\n"
   ]
  },
  {
   "cell_type": "code",
   "execution_count": 7,
   "id": "e1cd125c",
   "metadata": {},
   "outputs": [],
   "source": [
    "X_train, X_test, y_train, y_test = train_test_split(X_scaled, y, test_size=0.2, random_state=42)"
   ]
  },
  {
   "cell_type": "code",
   "execution_count": 8,
   "id": "d435133c",
   "metadata": {},
   "outputs": [
    {
     "name": "stdout",
     "output_type": "stream",
     "text": [
      "Naive Bayes Classifier:\n",
      "Accuracy: 0.8219, Precision: 0.7233, Recall: 0.9385, F1-score: 0.8170\n",
      "Confusion Matrix:\n",
      "[[391 140]\n",
      " [ 24 366]]\n"
     ]
    }
   ],
   "source": [
    "nb_classifier = GaussianNB()\n",
    "nb_classifier.fit(X_train, y_train)\n",
    "pred_nb = nb_classifier.predict(X_test)\n",
    "accuracy_nb = accuracy_score(y_test, pred_nb)\n",
    "precision_nb = precision_score(y_test, pred_nb, average='binary', zero_division=1)\n",
    "recall_nb = recall_score(y_test, pred_nb, average='binary', zero_division=1)\n",
    "f1_nb = f1_score(y_test, pred_nb, average='binary', zero_division=1)\n",
    "cm_nb = confusion_matrix(y_test, pred_nb)\n",
    "\n",
    "print(\"Naive Bayes Classifier:\")\n",
    "print(f\"Accuracy: {accuracy_nb:.4f}, Precision: {precision_nb:.4f}, Recall: {recall_nb:.4f}, F1-score: {f1_nb:.4f}\")\n",
    "print(\"Confusion Matrix:\")\n",
    "print(cm_nb)"
   ]
  },
  {
   "cell_type": "code",
   "execution_count": 10,
   "id": "4a8ea244",
   "metadata": {},
   "outputs": [
    {
     "name": "stdout",
     "output_type": "stream",
     "text": [
      "Logistic Regression:\n",
      "Accuracy: 0.9197, Precision: 0.9217, Recall: 0.9136, F1-score: 0.917\n",
      "Confusion Matrix:\n",
      "[[506  25]\n",
      " [ 49 341]]\n",
      "\n",
      "\n"
     ]
    }
   ],
   "source": [
    "#logistic regression\n",
    "lr_classifier = LogisticRegression(max_iter=1000)\n",
    "lr_classifier.fit(X_train, y_train)\n",
    "pred_lr = lr_classifier.predict(X_test)\n",
    "accuracy_lr = accuracy_score(y_test, pred_lr)\n",
    "precision_lr = precision_score(y_test, pred_lr, average='macro', zero_division=1)\n",
    "recall_lr = recall_score(y_test, pred_lr, average='macro', zero_division=1)\n",
    "f1_lr = f1_score(y_test, pred_lr, average='macro', zero_division=1)\n",
    "conf_matrix_lr = confusion_matrix(y_test, pred_lr)\n",
    "\n",
    "print(\"Logistic Regression:\")\n",
    "print(f\"Accuracy: {accuracy_lr:.4f}, Precision: {precision_lr:.4f}, Recall: {recall_lr:.4f}, F1-score: {f1_lr:.4}\")\n",
    "print(\"Confusion Matrix:\")\n",
    "print(conf_matrix_lr)\n",
    "print(\"\\n\")\n"
   ]
  },
  {
   "cell_type": "code",
   "execution_count": 15,
   "id": "74c641be",
   "metadata": {},
   "outputs": [
    {
     "name": "stdout",
     "output_type": "stream",
     "text": [
      "Support Vector Machines (SVM):\n",
      "Accuracy: 0.9251, Precision: 0.9267, Recall: 0.9197, F1-score: 0.9227\n",
      "Confusion Matrix:\n",
      "[[507  24]\n",
      " [ 45 345]]\n",
      "\n",
      "\n"
     ]
    }
   ],
   "source": [
    "#Support Vector Machines (SVM)\n",
    "svm_classifier = SVC(kernel='linear')\n",
    "svm_classifier.fit(X_train, y_train)\n",
    "pred_svm = svm_classifier.predict(X_test)\n",
    "accuracy_svm = accuracy_score(y_test, pred_svm)\n",
    "precision_svm = precision_score(y_test, pred_svm, average='macro', zero_division=1)\n",
    "recall_svm = recall_score(y_test, pred_svm, average='macro', zero_division=1)\n",
    "f1_svm = f1_score(y_test, pred_svm, average='macro', zero_division=1)\n",
    "conf_matrix_svm = confusion_matrix(y_test, pred_svm)\n",
    "\n",
    "print(\"Support Vector Machines (SVM):\")\n",
    "print(f\"Accuracy: {accuracy_svm:.4f}, Precision: {precision_svm:.4f}, Recall: {recall_svm:.4f}, F1-score: {f1_svm:.4f}\")\n",
    "print(\"Confusion Matrix:\")\n",
    "print(conf_matrix_svm)\n",
    "print(\"\\n\")\n"
   ]
  },
  {
   "cell_type": "code",
   "execution_count": 16,
   "id": "95af3437",
   "metadata": {},
   "outputs": [
    {
     "name": "stdout",
     "output_type": "stream",
     "text": [
      "Decision Tree Classifier:\n",
      "Accuracy: 0.9175, Precision: 0.9175, Recall: 0.9131, F1-score: 0.9151\n",
      "Confusion Matrix:\n",
      "[[500  31]\n",
      " [ 45 345]]\n",
      "\n",
      "\n"
     ]
    }
   ],
   "source": [
    "# Decision Tree classifier\n",
    "accuracy_dt = accuracy_score(y_test, pred_dt)\n",
    "precision_dt = precision_score(y_test, pred_dt, average='macro', zero_division=1)\n",
    "recall_dt = recall_score(y_test, pred_dt, average='macro', zero_division=1)\n",
    "f1_dt = f1_score(y_test, pred_dt, average='macro', zero_division=1)\n",
    "conf_matrix_dt = confusion_matrix(y_test, pred_dt)\n",
    "\n",
    "print(\"Decision Tree Classifier:\")\n",
    "print(f\"Accuracy: {accuracy_dt:.4f}, Precision: {precision_dt:.4f}, Recall: {recall_dt:.4f}, F1-score: {f1_dt:.4f}\")\n",
    "print(\"Confusion Matrix:\")\n",
    "print(conf_matrix_dt)\n",
    "print(\"\\n\")"
   ]
  },
  {
   "cell_type": "code",
   "execution_count": null,
   "id": "dcdc0193",
   "metadata": {},
   "outputs": [],
   "source": []
  }
 ],
 "metadata": {
  "kernelspec": {
   "display_name": "Python 3 (ipykernel)",
   "language": "python",
   "name": "python3"
  },
  "language_info": {
   "codemirror_mode": {
    "name": "ipython",
    "version": 3
   },
   "file_extension": ".py",
   "mimetype": "text/x-python",
   "name": "python",
   "nbconvert_exporter": "python",
   "pygments_lexer": "ipython3",
   "version": "3.10.9"
  }
 },
 "nbformat": 4,
 "nbformat_minor": 5
}
